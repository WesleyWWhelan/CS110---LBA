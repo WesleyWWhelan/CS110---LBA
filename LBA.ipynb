{
 "cells": [
  {
   "cell_type": "markdown",
   "metadata": {},
   "source": [
    "# LBA - CS110\n",
    "\n",
    "\n",
    "## Introduction:\n",
    "\n",
    "This is an object-oriented, dynamic programming implementation of a chore scheduler. This algorithm uses the start and end times to sort and find overlaps, benefit to find optimal schedules, and it also uses the name of the chore to give us a comprehensive result that lists our chores in order for the optimal schedule.\n",
    "\n",
    "\n",
    "## The Code:"
   ]
  },
  {
   "cell_type": "markdown",
   "metadata": {},
   "source": [
    "### Class 1 - Chore:"
   ]
  },
  {
   "cell_type": "code",
   "execution_count": 824,
   "metadata": {},
   "outputs": [],
   "source": [
    "class Chore: \n",
    "    def __init__(self, name, start, end, benefit): \n",
    "        self.name = name\n",
    "        self.start  = start \n",
    "        self.end = end \n",
    "        self.benefit  = benefit\n",
    "    '''\n",
    "    - Initializing the object with these \n",
    "    characteristics.\n",
    "\n",
    "    - I replace the printing of the object to \n",
    "    printing this sentence below.\n",
    "\n",
    "    - I have getBenefit function which I give\n",
    "    actual mechanism to for MClass.\n",
    "    '''\n",
    "    def __repr__(self):\n",
    "        return f'Chore: {self.name} | Time:{self.start} --> {self.end}| Benefit of Chore:{self.benefit}'\n",
    "    def getBenefit(self, *args):\n",
    "        return self.benefit"
   ]
  },
  {
   "cell_type": "markdown",
   "metadata": {},
   "source": [
    "### Class 2 - MClass:"
   ]
  },
  {
   "cell_type": "code",
   "execution_count": 825,
   "metadata": {},
   "outputs": [],
   "source": [
    "class MClass(Chore):\n",
    "    def __init__(self, *args, constraint):\n",
    "        self.constraint = constraint\n",
    "        super().__init__(*args)\n",
    "    '''\n",
    "    - Initializing this sub-class with an \n",
    "    extra characteristic: \"constraint\"\n",
    "\n",
    "    - getBenefit is using the constraint to \n",
    "    make the chore unusable if the constraint chore\n",
    "    is not completed before hand.\n",
    "    '''\n",
    "    def getBenefit(self,*args):\n",
    "        for chore in args:\n",
    "            if chore.name == self.constraint:\n",
    "                return self.benefit\n",
    "        self.benefit = -1\n",
    "        return self.benefit"
   ]
  },
  {
   "cell_type": "markdown",
   "metadata": {},
   "source": [
    "### Class 3 - Schedule:"
   ]
  },
  {
   "cell_type": "code",
   "execution_count": 826,
   "metadata": {},
   "outputs": [],
   "source": [
    "class schedule:\n",
    "    '''\n",
    "    Using this class helped me keep everything \n",
    "    organized, also allowing for easier analysis \n",
    "    of bugs as I wored through.\n",
    "    '''\n",
    "    def __init__(self,chores):\n",
    "        self.chores = chores\n",
    "    def search(self, begin): \n",
    "        l = 0\n",
    "        h = begin - 1\n",
    "        while l <= h:\n",
    "            m = (l + h) // 2\n",
    "            if self.chores[m].end <= self.chores[begin].start: \n",
    "                '''\n",
    "                if our middle chore has end time \n",
    "                that is less than the first chore's\n",
    "                start time, we go to the next if \n",
    "                statement that says: \n",
    "                if the chore above the middle chore's\n",
    "                end time is less than the first\n",
    "                chore's start time, set low to equal \n",
    "                that value and repeat.\n",
    "                If not, then we simply return m\n",
    "                Basically, this function is checking \n",
    "                previous chores to find overlaps\n",
    "                '''\n",
    "                if self.chores[m + 1].end <= self.chores[begin].start: \n",
    "                    l = m + 1\n",
    "                else: \n",
    "                    return m \n",
    "            else:\n",
    "                h = m - 1\n",
    "        return -1\n",
    "    def schedule_it(self):\n",
    "        return self._schedule_it()\n",
    "    def optimal_benefit_nc(self):\n",
    "        '''\n",
    "        - This function was the first step in my \n",
    "        process for finding\n",
    "        the optimal benefit of a list of chores.\n",
    "        '''\n",
    "        self.chores = sorted(self.chores, key = lambda c: c.end)\n",
    "        num_chores = len(self.chores)\n",
    "        day1 = [None for _ in range(num_chores)]\n",
    "        day1[0] = self.chores[0].benefit\n",
    "        for a in range(1,num_chores):\n",
    "            cur1_benefit = self.chores[a].benefit\n",
    "            results = search(self.chores, a)\n",
    "            if (results != -1): \n",
    "                cur1_benefit += day1[results]\n",
    "            day1[a] = max(cur1_benefit, day1[a - 1])\n",
    "            opt1 = max(day1)\n",
    "            return(opt1)\n",
    "    def _schedule_it(self):\n",
    "        self.chores = sorted(self.chores, key = lambda c: c.end)\n",
    "        num_chores = len(self.chores)\n",
    "        day = [[] for _ in range(num_chores)]\n",
    "        day[0].append(self.chores[0])\n",
    "        for a in range(1,num_chores):\n",
    "            cur_benefit = self.chores[a].benefit\n",
    "            results = search(self.chores, a)\n",
    "            if (results != -1): \n",
    "                cur_benefit += sum([el.getBenefit(*day[results]) for el in day[results]])\n",
    "                for r in day[results]:\n",
    "                    day[a].append(r)\n",
    "            if cur_benefit > sum([el.getBenefit(*day[a-1]) for el in day[a-1]]):\n",
    "                day[a].append(self.chores[a]) \n",
    "            else:\n",
    "                day[a] = day[a - 1]\n",
    "        '''\n",
    "        This is the main method used to find the \n",
    "        optimal schedule. In this method, we call\n",
    "        on both the search and getBenefit methods \n",
    "        to help find the answer. This is an example\n",
    "        of top-down memoization (dynamic programming)\n",
    "        because I am using subproblems to find\n",
    "        the overall answer. Specifically, I am \n",
    "        calculating optimal schedules up to certain\n",
    "        chores and then using these to find optimal \n",
    "        schedules for chores later in the day.\n",
    "        \n",
    "        First, I sort the chores by end time.\n",
    "        Next, I create a list to keep optimal \n",
    "        schedules of the chores.\n",
    "        For every chore, I search to find any \n",
    "        overlapping chores before the current chore.\n",
    "        Using the optimal nonoverlapping chore \n",
    "        schedule, I add to the current chore list.\n",
    "        I then check the sum of the current chore \n",
    "        schedule's benefit and compare it to\n",
    "        the previous day. If greater, I keep it. \n",
    "        If not, I replace it with yesterday.\n",
    "        Finally, I find the max benefit from any \n",
    "        schedule in the list I created iteratively.\n",
    "        '''\n",
    "        sums = []\n",
    "        for i in range(len(day)):\n",
    "            s = sum([el.getBenefit(*day[i]) for el in day[i]])\n",
    "            sums.append(s) \n",
    "        opt = max(sums)\n",
    "        ind = sums.index(opt)\n",
    "        print('The optimal schedule is:')\n",
    "        for x in day[ind]:\n",
    "            print(x)\n",
    "        return(f'The optimal benefit is:{opt}')"
   ]
  },
  {
   "cell_type": "markdown",
   "metadata": {},
   "source": [
    "### Add Functions:"
   ]
  },
  {
   "cell_type": "code",
   "execution_count": 827,
   "metadata": {},
   "outputs": [],
   "source": []
  },
  {
   "cell_type": "markdown",
   "metadata": {},
   "source": [
    "### Test Cases:"
   ]
  },
  {
   "cell_type": "code",
   "execution_count": 828,
   "metadata": {},
   "outputs": [
    {
     "name": "stdout",
     "output_type": "stream",
     "text": [
      "Chore: Parkour | Time:9 --> 10.5| Benefit of Chore:10\n",
      "Chore: Sleep | Time:0 --> 8| Benefit of Chore:50\n",
      "Chore: Stay up and work | Time:0 --> 4| Benefit of Chore:22\n",
      "Chore: Lunch | Time:11.5 --> 12| Benefit of Chore:5\n",
      "Chore: Nap | Time:14 --> 16| Benefit of Chore:10\n",
      "Chore: Guitar | Time:13 --> 15| Benefit of Chore:20\n",
      "Chore: Study | Time:13 --> 14| Benefit of Chore:5\n",
      "Chore: Study | Time:14 --> 16| Benefit of Chore:9\n",
      "Chore: Dinner | Time:21 --> 22| Benefit of Chore:-1\n",
      "Chore: Class | Time:19.5 --> 21| Benefit of Chore:20\n",
      "Chore: Sleep | Time:4 --> 8| Benefit of Chore:25\n",
      "\n",
      "\n",
      "The optimal schedule is:\n",
      "Chore: Sleep | Time:0 --> 8| Benefit of Chore:50\n",
      "Chore: Parkour | Time:9 --> 10.5| Benefit of Chore:10\n",
      "Chore: Lunch | Time:11.5 --> 12| Benefit of Chore:5\n",
      "Chore: Guitar | Time:13 --> 15| Benefit of Chore:20\n",
      "Chore: Class | Time:19.5 --> 21| Benefit of Chore:20\n"
     ]
    },
    {
     "data": {
      "text/plain": [
       "'The optimal benefit is:105'"
      ]
     },
     "execution_count": 828,
     "metadata": {},
     "output_type": "execute_result"
    }
   ],
   "source": [
    "chores = []\n",
    "add(chores,'Parkour',9,10.5,10)\n",
    "add(chores,'Sleep',0,8,50)\n",
    "add(chores,'Stay up and work',0,4,22)\n",
    "add(chores,'Lunch',11.5,12,5)\n",
    "add(chores,'Nap',14,16,10)\n",
    "add(chores,'Guitar',13,15,20)\n",
    "add(chores,'Study',13,14,5)\n",
    "add(chores,'Study',14,16,9)\n",
    "add(chores,'Dinner',21,22,-1)\n",
    "add_class(chores,'Class',19.5,21,20,\n",
    "          constraint = 'Sleep')\n",
    "add_class(chores,'Sleep',4,8,25,\n",
    "          constraint = 'Stay up and work')\n",
    "chores1 = schedule(chores)\n",
    "for x in range(len(chores)):\n",
    "    print(chores[x])\n",
    "print('\\n')\n",
    "chores1.schedule_it()"
   ]
  },
  {
   "cell_type": "markdown",
   "metadata": {},
   "source": [
    "#### What do these mean?\n",
    "\n",
    "In the first test case, we show that Sleep from $0\\to8$ is chosen because its benefit of $50$ is greater than the combined benefits of Staying up Late from $0 \\to 4$ and sleeping $4 \\to 8$ which is $47$. We also see some choices between Guitar and Studying that prove our algorithm has its priorities straight (just joking); this does, however, show that our algorithm is working in that it chooses the optimal schedule.\n",
    "\n",
    "The second test case shows an increase in benefit of our 4 hour sleep that changes our schedule to Staying up late and working and then sleeping. This still allows us to have class and optimizes our schedule. This test demonstrates our algorithm working in multiple scenarios with changes to benefit values."
   ]
  },
  {
   "cell_type": "code",
   "execution_count": 829,
   "metadata": {},
   "outputs": [
    {
     "name": "stdout",
     "output_type": "stream",
     "text": [
      "Chore: Parkour | Time:9 --> 10.5| Benefit of Chore:10\n",
      "Chore: Sleep | Time:0 --> 8| Benefit of Chore:50\n",
      "Chore: Stay up and work | Time:0 --> 4| Benefit of Chore:22\n",
      "Chore: Lunch | Time:11.5 --> 12| Benefit of Chore:5\n",
      "Chore: Nap | Time:14 --> 16| Benefit of Chore:10\n",
      "Chore: Guitar | Time:13 --> 15| Benefit of Chore:20\n",
      "Chore: Study | Time:13 --> 14| Benefit of Chore:5\n",
      "Chore: Study | Time:14 --> 16| Benefit of Chore:9\n",
      "Chore: Dinner | Time:21 --> 22| Benefit of Chore:-1\n",
      "Chore: Class | Time:19.5 --> 21| Benefit of Chore:20\n",
      "Chore: Sleep | Time:4 --> 8| Benefit of Chore:40\n",
      "\n",
      "\n",
      "The optimal schedule is:\n",
      "Chore: Stay up and work | Time:0 --> 4| Benefit of Chore:22\n",
      "Chore: Sleep | Time:4 --> 8| Benefit of Chore:40\n",
      "Chore: Parkour | Time:9 --> 10.5| Benefit of Chore:10\n",
      "Chore: Lunch | Time:11.5 --> 12| Benefit of Chore:5\n",
      "Chore: Guitar | Time:13 --> 15| Benefit of Chore:20\n",
      "Chore: Class | Time:19.5 --> 21| Benefit of Chore:20\n"
     ]
    },
    {
     "data": {
      "text/plain": [
       "'The optimal benefit is:117'"
      ]
     },
     "execution_count": 829,
     "metadata": {},
     "output_type": "execute_result"
    }
   ],
   "source": [
    "chores2 = []\n",
    "add(chores2,'Parkour',9,10.5,10)\n",
    "add(chores2,'Sleep',0,8,50)\n",
    "add(chores2,'Stay up and work',0,4,22)\n",
    "add(chores2,'Lunch',11.5,12,5)\n",
    "add(chores2,'Nap',14,16,10)\n",
    "add(chores2,'Guitar',13,15,20)\n",
    "add(chores2,'Study',13,14,5)\n",
    "add(chores2,'Study',14,16,9)\n",
    "add(chores2,'Dinner',21,22,-1)\n",
    "add_class(chores2,'Class',19.5,21,20,\n",
    "          constraint = 'Sleep')\n",
    "add_class(chores2,'Sleep',4,8,40,\n",
    "          constraint = 'Stay up and work')\n",
    "chores3 = schedule(chores2)\n",
    "for x in range(len(chores2)):\n",
    "    print(chores2[x])\n",
    "print('\\n')\n",
    "chores3.schedule_it()"
   ]
  },
  {
   "cell_type": "markdown",
   "metadata": {},
   "source": [
    "### Final Test Case:\n",
    "\n",
    "This test case demonstrates the constraint aspect of my algorithm. By adding in a new chore called 'Work on LBA' with a large benefit that overlaps with both options for sleeping, the benefit for Class is transformed to -1 in the optimal solution and we skip class. In reality, I would add possible sleep times before and after having fun, but I could simply call them sleep1 and sleep2 to keep the constraint of going to class."
   ]
  },
  {
   "cell_type": "code",
   "execution_count": 830,
   "metadata": {},
   "outputs": [
    {
     "name": "stdout",
     "output_type": "stream",
     "text": [
      "Chore: Parkour | Time:9 --> 10.5| Benefit of Chore:10\n",
      "Chore: Sleep | Time:0 --> 8| Benefit of Chore:50\n",
      "Chore: Stay up and work | Time:0 --> 4| Benefit of Chore:22\n",
      "Chore: Lunch | Time:11.5 --> 12| Benefit of Chore:5\n",
      "Chore: Nap | Time:14 --> 16| Benefit of Chore:10\n",
      "Chore: Guitar | Time:13 --> 15| Benefit of Chore:20\n",
      "Chore: Study | Time:13 --> 14| Benefit of Chore:5\n",
      "Chore: Study | Time:14 --> 16| Benefit of Chore:9\n",
      "Chore: Dinner | Time:21 --> 22| Benefit of Chore:-1\n",
      "Chore: Class | Time:19.5 --> 21| Benefit of Chore:20\n",
      "Chore: Sleep | Time:4 --> 8| Benefit of Chore:40\n",
      "Chore: Work on LBA | Time:1 --> 6| Benefit of Chore:100\n",
      "\n",
      "\n",
      "The optimal schedule is:\n",
      "Chore: Work on LBA | Time:1 --> 6| Benefit of Chore:100\n",
      "Chore: Parkour | Time:9 --> 10.5| Benefit of Chore:10\n",
      "Chore: Lunch | Time:11.5 --> 12| Benefit of Chore:5\n",
      "Chore: Guitar | Time:13 --> 15| Benefit of Chore:20\n"
     ]
    },
    {
     "data": {
      "text/plain": [
       "'The optimal benefit is:135'"
      ]
     },
     "execution_count": 830,
     "metadata": {},
     "output_type": "execute_result"
    }
   ],
   "source": [
    "chores4 = []\n",
    "add(chores4,'Parkour',9,10.5,10)\n",
    "add(chores4,'Sleep',0,8,50)\n",
    "add(chores4,'Stay up and work',0,4,22)\n",
    "add(chores4,'Lunch',11.5,12,5)\n",
    "add(chores4,'Nap',14,16,10)\n",
    "add(chores4,'Guitar',13,15,20)\n",
    "add(chores4,'Study',13,14,5)\n",
    "add(chores4,'Study',14,16,9)\n",
    "add(chores4,'Dinner',21,22,-1)\n",
    "add_class(chores4,'Class',19.5,21,20,\n",
    "          constraint = 'Sleep')\n",
    "add_class(chores4,'Sleep',4,8,40,\n",
    "          constraint = 'Stay up and work')\n",
    "add(chores4,'Work on LBA',1,6,100)\n",
    "chores5 = schedule(chores4)\n",
    "for x in range(len(chores4)):\n",
    "    print(chores4[x])\n",
    "print('\\n')\n",
    "chores5.schedule_it()"
   ]
  },
  {
   "cell_type": "markdown",
   "metadata": {},
   "source": [
    "## Is it good, though?\n",
    "\n",
    "\n",
    "This solution, while far from optimal, demonstrates much of what I have learned in this class. Though we just learned dynamic programming and this is the first time I have used object-oriented programming for a novel application, I managed to include many aspects in the algorithm that helped this scheduler work correctly and quickly while staying organized.\n",
    "\n",
    "I would like to point out why we can use memoization for this problem. We know that each subproblem will have the same structure - a list of schedules in order with optimal summed benefit. We also know that the optimal solution for a given subproblem will contribute to the optimal solution for the next level if the chores do not overlap. Because of this, our application is successful in determining the optimal schedule. We store optimal solutions for each level (subproblems) and then add if no overlap and we increase benefit. If not, we simply pick between our solutions to find the optimal solution.\n",
    "\n",
    "The constraints added a bit of complexity to the problem, but after many hours of working I understood that creating a new class and method for finding the benefit of the chore would be a useful solution to the problem. This does mean that we have to add a chore as a different class if we want to add a constraint, but this could be improved with more work.\n",
    "\n",
    "Some assumptions that we have that may need to be re-assesed for a true, realistic solution:\n",
    "\n",
    "- Not doing something doesn't decrease benefit (or increase) of another chore. For example, sleeping only 4 hours doesn't decrease the benefit of the class I have even though I will be tired during it.\n",
    "\n",
    "- Our hours can't shrink or stretch depending on needs. In life, there is flexibility and not everything happens on the dot. This algorithm is a #model, using a simplified version of life to understand how things work.\n",
    "\n",
    "Extensions to solve these problems would include structural changes to the algorithm and multiple methods added. I would like to, given I have time in the future for this, improve this algorithm by adding in a new method or aspect to the getBenefit method that decreases benefit given that another chore has been (or hasn't been) completed. For this, I would need to add new attributes to the object and restructure some minor aspects of my program. I attempted - and failed - this already, and there isn't enough time to keep working on, but I do think it is a very interesting addition that I would like to implement. Additionally, adding in segments or duplicates our chores could be helpful to solving the flexibility problem using duplicates, I could allow for more optimal solutions that could work around constraints. For example, having separate study times that would allow me to practice guitar in between them and still go to class (given that studying could be a constraint for class).\n",
    "\n",
    "All in all, I am proud of this assignment and the progress I made as a python programmer. It was difficult, but I do think that this has improved my understanding of dynamic programming and python in general, as well as set me up to do better on the next assignments and outside work.\n",
    "\n",
    "## LBA Stuff:"
   ]
  },
  {
   "cell_type": "code",
   "execution_count": 852,
   "metadata": {},
   "outputs": [
    {
     "name": "stdout",
     "output_type": "stream",
     "text": [
      "Chore: Parkour | Time:9 --> 10.5| Benefit of Chore:10\n",
      "Chore: Sleep | Time:0 --> 8| Benefit of Chore:50\n",
      "Chore: Breakfast | Time:8 --> 9| Benefit of Chore:5\n",
      "Chore: Workspace | Time:11.5 --> 13| Benefit of Chore:15\n",
      "Chore: Lunch | Time:10.5 --> 11.5| Benefit of Chore:5\n",
      "Chore: Nap | Time:16 --> 18| Benefit of Chore:10\n",
      "Chore: Guitar | Time:15 --> 16| Benefit of Chore:20\n",
      "Chore: Dress in Traditional Clothes with Henry | Time:21 --> 22| Benefit of Chore:5\n",
      "Chore: Hang at the Beach | Time:18 --> 19| Benefit of Chore:5\n",
      "Chore: Go to Coconut Stand | Time:19 --> 19.5| Benefit of Chore:50\n",
      "Chore: HOLI | Time:13 --> 14| Benefit of Chore:25\n",
      "Chore: Nap | Time:14 --> 15| Benefit of Chore:200\n",
      "Chore: Photo Walk | Time:19.5 --> 21| Benefit of Chore:20\n",
      "\n",
      "\n",
      "The optimal schedule is:\n",
      "Chore: Sleep | Time:0 --> 8| Benefit of Chore:50\n",
      "Chore: Breakfast | Time:8 --> 9| Benefit of Chore:5\n",
      "Chore: Parkour | Time:9 --> 10.5| Benefit of Chore:10\n",
      "Chore: Lunch | Time:10.5 --> 11.5| Benefit of Chore:5\n",
      "Chore: Workspace | Time:11.5 --> 13| Benefit of Chore:15\n",
      "Chore: HOLI | Time:13 --> 14| Benefit of Chore:25\n",
      "Chore: Nap | Time:14 --> 15| Benefit of Chore:200\n",
      "Chore: Guitar | Time:15 --> 16| Benefit of Chore:20\n",
      "Chore: Nap | Time:16 --> 18| Benefit of Chore:10\n",
      "Chore: Hang at the Beach | Time:18 --> 19| Benefit of Chore:5\n",
      "Chore: Go to Coconut Stand | Time:19 --> 19.5| Benefit of Chore:50\n",
      "Chore: Photo Walk | Time:19.5 --> 21| Benefit of Chore:20\n",
      "Chore: Dress in Traditional Clothes with Henry | Time:21 --> 22| Benefit of Chore:5\n"
     ]
    },
    {
     "data": {
      "text/plain": [
       "'The optimal benefit is:420'"
      ]
     },
     "execution_count": 852,
     "metadata": {},
     "output_type": "execute_result"
    }
   ],
   "source": [
    "chores4 = []\n",
    "add(chores4,'Parkour',9,10.5,10)\n",
    "add(chores4,'Sleep',0,8,50)\n",
    "add(chores4,'Breakfast',8,9,5)\n",
    "add(chores4,'Workspace',11.5,13,15)\n",
    "add(chores4,'Lunch',10.5,11.5,5)\n",
    "add(chores4,'Nap',16,18,10)\n",
    "add(chores4,'Guitar',15,16,20)\n",
    "add(chores4,\n",
    "    'Dress in Traditional Clothes with Henry',21,22,5)\n",
    "add(chores4,'Hang at the Beach',18,19,5)\n",
    "add(chores4,'Go to Coconut Stand',19,19.5,50)\n",
    "add(chores4,'HOLI',13,14,25)\n",
    "add(chores4,'Nap',14,15,200)\n",
    "add_class(chores4,'Photo Walk',19.5,21,20,\n",
    "          constraint = 'Sleep')\n",
    "chores5 = schedule(chores4)\n",
    "for x in range(len(chores4)):\n",
    "    print(chores4[x])\n",
    "print('\\n')\n",
    "chores5.schedule_it()"
   ]
  }
 ],
 "metadata": {
  "kernelspec": {
   "display_name": "Python 3",
   "language": "python",
   "name": "python3"
  },
  "language_info": {
   "codemirror_mode": {
    "name": "ipython",
    "version": 3
   },
   "file_extension": ".py",
   "mimetype": "text/x-python",
   "name": "python",
   "nbconvert_exporter": "python",
   "pygments_lexer": "ipython3",
   "version": "3.7.1"
  }
 },
 "nbformat": 4,
 "nbformat_minor": 2
}
